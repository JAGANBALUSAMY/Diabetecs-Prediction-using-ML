{
 "cells": [
  {
   "cell_type": "code",
   "execution_count": 9,
   "metadata": {},
   "outputs": [],
   "source": [
    "import pandas as pd\n",
    "import numpy as np\n",
    "import pickle\n",
    "from sklearn.tree import DecisionTreeClassifier\n",
    "from sklearn.linear_model import LogisticRegression\n",
    "from sklearn.neighbors import KNeighborsClassifier\n",
    "from sklearn.naive_bayes import GaussianNB\n",
    "from sklearn.model_selection import train_test_split, RandomizedSearchCV\n",
    "from sklearn.preprocessing import StandardScaler"
   ]
  },
  {
   "cell_type": "code",
   "execution_count": 10,
   "metadata": {},
   "outputs": [],
   "source": [
    "# Load dataset\n",
    "dataset = pd.read_csv(r\"E:\\New folder\\diabetes.csv\")"
   ]
  },
  {
   "cell_type": "code",
   "execution_count": 11,
   "metadata": {},
   "outputs": [],
   "source": [
    "# Replace 0s with NaN for selected columns and fill with mean\n",
    "dataset[[\"Glucose\", \"Insulin\", \"BMI\"]] = dataset[[\"Glucose\", \"Insulin\", \"BMI\"]].replace(0, np.nan)\n",
    "dataset.fillna(dataset.mean(), inplace=True)"
   ]
  },
  {
   "cell_type": "code",
   "execution_count": 12,
   "metadata": {},
   "outputs": [],
   "source": [
    "# Feature scaling\n",
    "features = [\"Glucose\", \"Insulin\", \"BMI\", \"Age\"]\n",
    "target = \"Outcome\"\n",
    "scaler = StandardScaler()\n",
    "X = scaler.fit_transform(dataset[features])\n",
    "Y = dataset[target]"
   ]
  },
  {
   "cell_type": "code",
   "execution_count": 13,
   "metadata": {},
   "outputs": [],
   "source": [
    "# Save the scaler for consistent scaling\n",
    "with open(r'E:\\diabetes_prediction\\scaler.pkl', 'wb') as file:\n",
    "    pickle.dump(scaler, file)"
   ]
  },
  {
   "cell_type": "code",
   "execution_count": 14,
   "metadata": {},
   "outputs": [],
   "source": [
    "# Split the data\n",
    "X_train, X_test, Y_train, Y_test = train_test_split(X, Y, test_size=0.2, random_state=42, stratify=Y)"
   ]
  },
  {
   "cell_type": "code",
   "execution_count": 15,
   "metadata": {},
   "outputs": [],
   "source": [
    "# Train and save models\n",
    "models = {\n",
    "    \"Random Forest Tree\": RandomizedSearchCV(\n",
    "        estimator=DecisionTreeClassifier(random_state=42),\n",
    "        param_distributions={\n",
    "            'criterion': ['gini', 'entropy'],\n",
    "            'max_depth': [None, 10, 20, 30],\n",
    "            'min_samples_split': [2, 5, 10],\n",
    "            'min_samples_leaf': [1, 2, 4]\n",
    "        },\n",
    "        n_iter=50,\n",
    "        cv=5,\n",
    "        scoring='accuracy',\n",
    "        random_state=42\n",
    "    ),\n",
    "    \"Logistic Regression\": RandomizedSearchCV(\n",
    "        estimator=LogisticRegression(random_state=42),\n",
    "        param_distributions={\n",
    "            'C': np.logspace(-4, 4, 20),\n",
    "            'solver': ['liblinear', 'lbfgs'],\n",
    "        },\n",
    "        n_iter=50,\n",
    "        cv=5,\n",
    "        scoring='accuracy',\n",
    "        random_state=42\n",
    "    ),\n",
    "    \"K-Nearest Neighbour\": RandomizedSearchCV(\n",
    "        estimator=KNeighborsClassifier(),\n",
    "        param_distributions={\n",
    "            'n_neighbors': range(1, 31),\n",
    "            'weights': ['uniform', 'distance'],\n",
    "        },\n",
    "        n_iter=50,\n",
    "        cv=5,\n",
    "        scoring='accuracy',\n",
    "        random_state=42\n",
    "    ),\n",
    "    \"Naive Bayes\": GaussianNB(),\n",
    "    \"Decision Tree\": RandomizedSearchCV(\n",
    "        estimator=DecisionTreeClassifier(random_state=42),\n",
    "        param_distributions={\n",
    "            'criterion': ['gini', 'entropy'],\n",
    "            'max_depth': [None, 10, 20, 30],\n",
    "        },\n",
    "        n_iter=50,\n",
    "        cv=5,\n",
    "        scoring='accuracy',\n",
    "        random_state=42\n",
    "    ),\n",
    "}"
   ]
  },
  {
   "cell_type": "code",
   "execution_count": 16,
   "metadata": {},
   "outputs": [
    {
     "name": "stderr",
     "output_type": "stream",
     "text": [
      "e:\\anaconda\\Lib\\site-packages\\sklearn\\model_selection\\_search.py:318: UserWarning: The total space of parameters 40 is smaller than n_iter=50. Running 40 iterations. For exhaustive searches, use GridSearchCV.\n",
      "  warnings.warn(\n"
     ]
    },
    {
     "name": "stdout",
     "output_type": "stream",
     "text": [
      "Model training completed.\n"
     ]
    },
    {
     "name": "stderr",
     "output_type": "stream",
     "text": [
      "e:\\anaconda\\Lib\\site-packages\\sklearn\\model_selection\\_search.py:318: UserWarning: The total space of parameters 8 is smaller than n_iter=50. Running 8 iterations. For exhaustive searches, use GridSearchCV.\n",
      "  warnings.warn(\n"
     ]
    }
   ],
   "source": [
    "for name, model in models.items():\n",
    "    if isinstance(model, RandomizedSearchCV):\n",
    "        model.fit(X_train, Y_train)\n",
    "        best_model = model.best_estimator_\n",
    "    else:\n",
    "        model.fit(X_train, Y_train)\n",
    "        best_model = model\n",
    "\n",
    "    with open(f\"E:\\\\diabetes_prediction\\\\diabetes_{name.lower().replace(' ', '_')}_model.pkl\", 'wb') as file:\n",
    "        pickle.dump(best_model, file)\n",
    "\n",
    "print(\"Model training completed.\")"
   ]
  }
 ],
 "metadata": {
  "kernelspec": {
   "display_name": "base",
   "language": "python",
   "name": "python3"
  },
  "language_info": {
   "codemirror_mode": {
    "name": "ipython",
    "version": 3
   },
   "file_extension": ".py",
   "mimetype": "text/x-python",
   "name": "python",
   "nbconvert_exporter": "python",
   "pygments_lexer": "ipython3",
   "version": "3.12.4"
  }
 },
 "nbformat": 4,
 "nbformat_minor": 2
}
